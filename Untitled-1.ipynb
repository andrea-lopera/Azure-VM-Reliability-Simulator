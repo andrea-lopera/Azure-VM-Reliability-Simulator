{
 "cells": [
  {
   "cell_type": "code",
   "execution_count": 2,
   "id": "a85b7eca",
   "metadata": {},
   "outputs": [
    {
     "name": "stdout",
     "output_type": "stream",
     "text": [
      "Manual Failure Probability for vm_0001: 0.00%\n"
     ]
    }
   ],
   "source": [
    "# Assuming you have loaded the necessary libraries and files\n",
    "import pandas as pd\n",
    "import joblib\n",
    "\n",
    "# Load the data and model\n",
    "df = pd.read_csv('vm_telemetry.csv')\n",
    "model = joblib.load('model.pkl')\n",
    "\n",
    "# Select the specific VM and its features\n",
    "vm_id = 'vm_0001'\n",
    "vm_data = df[df['vm_id'] == vm_id].iloc[-1]\n",
    "\n",
    "# Ensure this feature list matches what your model was trained on\n",
    "feature_names = ['cpu_util', 'mem_util', 'disk_io', 'net_latency', 'is_peak', 'cpu_mem_ratio', 'cumulative_failures'] \n",
    "\n",
    "# Prepare the features and predict\n",
    "vm_features = vm_data[feature_names].values.reshape(1, -1)\n",
    "prob = model.predict_proba(vm_features)[0][1]\n",
    "\n",
    "print(f\"Manual Failure Probability for vm_0001: {prob:.2%}\")"
   ]
  },
  {
   "cell_type": "code",
   "execution_count": 3,
   "id": "0ee70387",
   "metadata": {},
   "outputs": [
    {
     "name": "stdout",
     "output_type": "stream",
     "text": [
      "Survival Model Coefficients:\n",
      "covariate\n",
      "cpu_util        0.000514\n",
      "disk_io         0.000029\n",
      "sys_failures    0.005943\n",
      "dtype: float64\n"
     ]
    }
   ],
   "source": [
    "import joblib\n",
    "ctv = joblib.load('survival_model.pkl')\n",
    "print(\"Survival Model Coefficients:\")\n",
    "print(ctv.params_)"
   ]
  },
  {
   "cell_type": "code",
   "execution_count": 4,
   "id": "2edfb408",
   "metadata": {},
   "outputs": [
    {
     "name": "stdout",
     "output_type": "stream",
     "text": [
      "Baseline Survival Curve:\n",
      "    baseline survival\n",
      "1            0.999000\n",
      "2            0.998002\n",
      "5            0.997004\n",
      "7            0.996007\n",
      "8            0.995012\n",
      "13           0.994017\n",
      "21           0.993023\n",
      "23           0.992030\n",
      "43           0.991039\n",
      "52           0.990048\n",
      "53           0.989059\n",
      "60           0.988071\n",
      "65           0.987084\n",
      "72           0.986097\n",
      "77           0.985112\n",
      "81           0.984127\n",
      "85           0.983144\n"
     ]
    }
   ],
   "source": [
    "print(\"Baseline Survival Curve:\")\n",
    "print(ctv.baseline_survival_)"
   ]
  }
 ],
 "metadata": {
  "kernelspec": {
   "display_name": ".global-venv",
   "language": "python",
   "name": "python3"
  },
  "language_info": {
   "codemirror_mode": {
    "name": "ipython",
    "version": 3
   },
   "file_extension": ".py",
   "mimetype": "text/x-python",
   "name": "python",
   "nbconvert_exporter": "python",
   "pygments_lexer": "ipython3",
   "version": "3.9.6"
  }
 },
 "nbformat": 4,
 "nbformat_minor": 5
}
